{
 "cells": [
  {
   "cell_type": "code",
   "execution_count": null,
   "id": "01587a8e",
   "metadata": {
    "vscode": {
     "languageId": "plaintext"
    }
   },
   "outputs": [],
   "source": [
    "import requests, json, os\n",
    "\n",
    "query = \"clip\"\n",
    "r = requests.get(f\"https://paperswithcode.com/api/v1/papers/?q={query}\")\n",
    "data = r.json()\n",
    "with open(\"data/metadata/pwc.json\", \"w\") as f:\n",
    "    json.dump(data, f, indent=2)\n"
   ]
  }
 ],
 "metadata": {
  "language_info": {
   "name": "python"
  }
 },
 "nbformat": 4,
 "nbformat_minor": 5
}
